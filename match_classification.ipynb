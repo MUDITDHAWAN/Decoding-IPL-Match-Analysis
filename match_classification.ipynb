{
  "nbformat": 4,
  "nbformat_minor": 0,
  "metadata": {
    "colab": {
      "name": "Baseline_Classifier.ipynb",
      "provenance": [],
      "collapsed_sections": [],
      "toc_visible": true
    },
    "kernelspec": {
      "name": "python3",
      "display_name": "Python 3"
    }
  },
  "cells": [
    {
      "cell_type": "code",
      "metadata": {
        "id": "M-VHQBdzNiJK",
        "colab": {
          "base_uri": "https://localhost:8080/"
        },
        "outputId": "d6e222b1-907e-4da1-c26d-b4cef50fa1ce"
      },
      "source": [
        "from google.colab import drive\n",
        "drive.mount('/content/drive') "
      ],
      "execution_count": 3,
      "outputs": [
        {
          "output_type": "stream",
          "text": [
            "Drive already mounted at /content/drive; to attempt to forcibly remount, call drive.mount(\"/content/drive\", force_remount=True).\n"
          ],
          "name": "stdout"
        }
      ]
    },
    {
      "cell_type": "code",
      "metadata": {
        "id": "vWaShejANnkW"
      },
      "source": [
        "import os\n",
        "os.chdir(\"/content/drive/My Drive/MLGroupProject/Dataset/\")"
      ],
      "execution_count": 4,
      "outputs": []
    },
    {
      "cell_type": "code",
      "metadata": {
        "id": "gR2mMvtgNpf-"
      },
      "source": [
        "import numpy as np # linear algebra\n",
        "import pandas as pd # data processing, CSV file I/O (e.g. pd.read_csv)"
      ],
      "execution_count": 5,
      "outputs": []
    },
    {
      "cell_type": "markdown",
      "metadata": {
        "id": "Z_byE2eAF1Na"
      },
      "source": [
        "# Start"
      ]
    },
    {
      "cell_type": "code",
      "metadata": {
        "id": "hGJwMtvaNyZY"
      },
      "source": [
        "matches=pd.read_csv('./kaggle_data/matches.csv')  #reading match data"
      ],
      "execution_count": 8,
      "outputs": []
    },
    {
      "cell_type": "code",
      "metadata": {
        "colab": {
          "base_uri": "https://localhost:8080/"
        },
        "id": "3bmsz7fwBvZn",
        "outputId": "8ff3835c-dd8a-4104-c7b0-5892b83c981a"
      },
      "source": [
        "matches.columns"
      ],
      "execution_count": 9,
      "outputs": [
        {
          "output_type": "execute_result",
          "data": {
            "text/plain": [
              "Index(['id', 'season', 'city', 'date', 'team1', 'team2', 'toss_winner',\n",
              "       'toss_decision', 'result', 'dl_applied', 'winner', 'win_by_runs',\n",
              "       'win_by_wickets', 'player_of_match', 'venue', 'umpire1', 'umpire2',\n",
              "       'umpire3'],\n",
              "      dtype='object')"
            ]
          },
          "metadata": {
            "tags": []
          },
          "execution_count": 9
        }
      ]
    },
    {
      "cell_type": "code",
      "metadata": {
        "id": "vbZ3bPUfOnCQ",
        "colab": {
          "base_uri": "https://localhost:8080/"
        },
        "outputId": "8e1c1480-7133-4aa9-bad8-580e685961cb"
      },
      "source": [
        "matches.shape"
      ],
      "execution_count": 10,
      "outputs": [
        {
          "output_type": "execute_result",
          "data": {
            "text/plain": [
              "(756, 18)"
            ]
          },
          "metadata": {
            "tags": []
          },
          "execution_count": 10
        }
      ]
    },
    {
      "cell_type": "code",
      "metadata": {
        "id": "gAb6co8BG2Ae"
      },
      "source": [
        "matches = matches.drop(['umpire3', 'umpire1', 'umpire2', 'city'], axis=1)"
      ],
      "execution_count": 11,
      "outputs": []
    },
    {
      "cell_type": "code",
      "metadata": {
        "id": "NYgz3rbmK5yW"
      },
      "source": [
        "deliveries = pd.read_csv('./kaggle_data/deliveries.csv') #reading ball - by - ball data"
      ],
      "execution_count": 12,
      "outputs": []
    },
    {
      "cell_type": "code",
      "metadata": {
        "id": "8BZs6dftOsMn",
        "colab": {
          "base_uri": "https://localhost:8080/"
        },
        "outputId": "1b69548d-fe61-43e9-c49f-bdd3eaf799aa"
      },
      "source": [
        "deliveries.shape"
      ],
      "execution_count": 13,
      "outputs": [
        {
          "output_type": "execute_result",
          "data": {
            "text/plain": [
              "(179078, 21)"
            ]
          },
          "metadata": {
            "tags": []
          },
          "execution_count": 13
        }
      ]
    },
    {
      "cell_type": "code",
      "metadata": {
        "id": "1XlONzXGj39q"
      },
      "source": [
        "# deliveries.groupby('total_runs').count()['match_id'].plot(kind=\"bar\", title=\"Runs scored per delivery\")\n"
      ],
      "execution_count": 14,
      "outputs": []
    },
    {
      "cell_type": "code",
      "metadata": {
        "id": "aYsdEkaaGCFY"
      },
      "source": [
        "matches_copy = matches.copy()"
      ],
      "execution_count": 15,
      "outputs": []
    },
    {
      "cell_type": "code",
      "metadata": {
        "id": "VxFU6nOVGHvy"
      },
      "source": [
        "# matches = matches_copy.copy()"
      ],
      "execution_count": 16,
      "outputs": []
    },
    {
      "cell_type": "code",
      "metadata": {
        "colab": {
          "base_uri": "https://localhost:8080/"
        },
        "id": "JnsBPwxlBaZX",
        "outputId": "86d73db3-7611-4486-a9eb-dc777eddd329"
      },
      "source": [
        "set(matches['team1'].to_list()) #creating set for team names."
      ],
      "execution_count": 17,
      "outputs": [
        {
          "output_type": "execute_result",
          "data": {
            "text/plain": [
              "{'Chennai Super Kings',\n",
              " 'Deccan Chargers',\n",
              " 'Delhi Capitals',\n",
              " 'Delhi Daredevils',\n",
              " 'Gujarat Lions',\n",
              " 'Kings XI Punjab',\n",
              " 'Kochi Tuskers Kerala',\n",
              " 'Kolkata Knight Riders',\n",
              " 'Mumbai Indians',\n",
              " 'Pune Warriors',\n",
              " 'Rajasthan Royals',\n",
              " 'Rising Pune Supergiant',\n",
              " 'Rising Pune Supergiants',\n",
              " 'Royal Challengers Bangalore',\n",
              " 'Sunrisers Hyderabad'}"
            ]
          },
          "metadata": {
            "tags": []
          },
          "execution_count": 17
        }
      ]
    },
    {
      "cell_type": "markdown",
      "metadata": {
        "id": "MgIs6FK7eIOC"
      },
      "source": [
        "label encoding done below."
      ]
    },
    {
      "cell_type": "code",
      "metadata": {
        "id": "_W13b2i0PD2b",
        "colab": {
          "base_uri": "https://localhost:8080/"
        },
        "outputId": "351e8c3f-6c5e-46ef-fac7-a851e3ea9fa3"
      },
      "source": [
        "#label enoding below\n",
        "team_dict = {'Mumbai Indians':'0','Kolkata Knight Riders': '1','Royal Challengers Bangalore': '2','Deccan Chargers': '3','Chennai Super Kings': '4',\n",
        "                 'Rajasthan Royals': '5','Delhi Daredevils': '6','Gujarat Lions': '7','Kings XI Punjab': '8',\n",
        "                 'Sunrisers Hyderabad': '9','Rising Pune Supergiants':'10','Kochi Tuskers Kerala': '11','Pune Warriors': '12','Rising Pune Supergiant': '10','Delhi Capitals':'6'}\n",
        "\n",
        "#mapping the team names to label encoded integers.\n",
        "matches['team1'] = matches['team1'].map(team_dict)\n",
        "print(matches.shape)\n",
        "matches['team2'] = matches['team2'].map(team_dict)\n",
        "print(matches.shape)\n",
        "\n",
        "matches['toss_winner'] = matches['toss_winner'].map(team_dict)\n",
        "print(matches.shape)\n",
        "\n",
        "\n",
        "matches['winner'] = matches['winner'].map(team_dict)\n",
        "print(matches.shape)\n",
        "\n",
        "toss_decision = {'field': 0, 'bat': 1}\n",
        "matches['toss_decision'] = matches['toss_decision'].map(toss_decision)\n",
        "print(matches.shape)\n"
      ],
      "execution_count": 18,
      "outputs": [
        {
          "output_type": "stream",
          "text": [
            "(756, 14)\n",
            "(756, 14)\n",
            "(756, 14)\n",
            "(756, 14)\n",
            "(756, 14)\n"
          ],
          "name": "stdout"
        }
      ]
    },
    {
      "cell_type": "code",
      "metadata": {
        "colab": {
          "base_uri": "https://localhost:8080/"
        },
        "id": "a5sKgKxFGkpo",
        "outputId": "ad7e49cf-8968-448b-f9f7-f286647a9064"
      },
      "source": [
        "matches.isna().sum()\n",
        "matches = matches.dropna()\n",
        "\n",
        "print(matches.shape)\n",
        "\n"
      ],
      "execution_count": 19,
      "outputs": [
        {
          "output_type": "stream",
          "text": [
            "(752, 14)\n"
          ],
          "name": "stdout"
        }
      ]
    },
    {
      "cell_type": "code",
      "metadata": {
        "id": "4ugUmUpmGmkP"
      },
      "source": [
        "matches['team1'] = pd.to_numeric(matches['team1'])\n",
        "matches['team2'] = pd.to_numeric(matches['team2'])\n",
        "matches['toss_winner'] = pd.to_numeric(matches['toss_winner'])\n",
        "matches['toss_decision'] = pd.to_numeric(matches['toss_decision'])\n",
        "matches['winner'] = pd.to_numeric(matches['winner'])"
      ],
      "execution_count": 20,
      "outputs": []
    },
    {
      "cell_type": "code",
      "metadata": {
        "colab": {
          "base_uri": "https://localhost:8080/"
        },
        "id": "T8FkvKoiAgCr",
        "outputId": "67a4540b-7be9-4c8a-8347-d43f108cb6f7"
      },
      "source": [
        "matches.shape"
      ],
      "execution_count": 21,
      "outputs": [
        {
          "output_type": "execute_result",
          "data": {
            "text/plain": [
              "(752, 14)"
            ]
          },
          "metadata": {
            "tags": []
          },
          "execution_count": 21
        }
      ]
    },
    {
      "cell_type": "code",
      "metadata": {
        "id": "Rkf4Wge9QpNP",
        "colab": {
          "base_uri": "https://localhost:8080/"
        },
        "outputId": "9b0d1947-64b8-42bd-f0bb-beb3f5ac9981"
      },
      "source": [
        "matches.dtypes"
      ],
      "execution_count": 22,
      "outputs": [
        {
          "output_type": "execute_result",
          "data": {
            "text/plain": [
              "id                  int64\n",
              "season              int64\n",
              "date               object\n",
              "team1               int64\n",
              "team2               int64\n",
              "toss_winner         int64\n",
              "toss_decision       int64\n",
              "result             object\n",
              "dl_applied          int64\n",
              "winner              int64\n",
              "win_by_runs         int64\n",
              "win_by_wickets      int64\n",
              "player_of_match    object\n",
              "venue              object\n",
              "dtype: object"
            ]
          },
          "metadata": {
            "tags": []
          },
          "execution_count": 22
        }
      ]
    },
    {
      "cell_type": "code",
      "metadata": {
        "id": "-wMIKGM0Wnnm"
      },
      "source": [
        "matches['season'] = matches['season']-2008 "
      ],
      "execution_count": 23,
      "outputs": []
    },
    {
      "cell_type": "code",
      "metadata": {
        "id": "E_Hr0bPsT_xY"
      },
      "source": [
        "# matches.sample(5)"
      ],
      "execution_count": 24,
      "outputs": []
    },
    {
      "cell_type": "markdown",
      "metadata": {
        "id": "gFWK6Rz-ehrU"
      },
      "source": [
        "converting winner of match as team 0 or team 1 instead of encoded integers so that it becomes a binary classification task."
      ]
    },
    {
      "cell_type": "code",
      "metadata": {
        "id": "rVTosSMMRq45"
      },
      "source": [
        "matches.loc[matches['team1'] == matches['winner'], 'label'] = 1\n",
        "matches.loc[matches['team1'] != matches['winner'], 'label'] = 0"
      ],
      "execution_count": 25,
      "outputs": []
    },
    {
      "cell_type": "code",
      "metadata": {
        "colab": {
          "base_uri": "https://localhost:8080/"
        },
        "id": "lr-o3R76AGkT",
        "outputId": "085d6cf1-3576-455d-84fb-0def72d261f8"
      },
      "source": [
        "matches.shape"
      ],
      "execution_count": 26,
      "outputs": [
        {
          "output_type": "execute_result",
          "data": {
            "text/plain": [
              "(752, 15)"
            ]
          },
          "metadata": {
            "tags": []
          },
          "execution_count": 26
        }
      ]
    },
    {
      "cell_type": "code",
      "metadata": {
        "id": "e-vDru1x6Ano"
      },
      "source": [
        "data = matches[['team1', 'team2','toss_winner', 'toss_decision', 'dl_applied', 'season', 'label']]"
      ],
      "execution_count": 27,
      "outputs": []
    },
    {
      "cell_type": "code",
      "metadata": {
        "id": "M-5YO3WL6Pjp"
      },
      "source": [
        "# data = data.dropna()"
      ],
      "execution_count": 28,
      "outputs": []
    },
    {
      "cell_type": "code",
      "metadata": {
        "id": "zB1_Mpkj6sEo",
        "colab": {
          "base_uri": "https://localhost:8080/"
        },
        "outputId": "53a70697-aacd-4ae3-cb1c-990a6994b177"
      },
      "source": [
        "data.shape"
      ],
      "execution_count": 29,
      "outputs": [
        {
          "output_type": "execute_result",
          "data": {
            "text/plain": [
              "(752, 7)"
            ]
          },
          "metadata": {
            "tags": []
          },
          "execution_count": 29
        }
      ]
    },
    {
      "cell_type": "markdown",
      "metadata": {
        "id": "VxszfYnGeyaL"
      },
      "source": [
        "Creating input data for the classification task."
      ]
    },
    {
      "cell_type": "code",
      "metadata": {
        "id": "yBA89exaSZKg"
      },
      "source": [
        "X = data[['team1', 'team2','toss_winner', 'toss_decision', 'dl_applied', 'season']].to_numpy()"
      ],
      "execution_count": 30,
      "outputs": []
    },
    {
      "cell_type": "code",
      "metadata": {
        "id": "KnZgiSGx1USr"
      },
      "source": [
        "# matches[['id','team1', 'team2','toss_winner', 'toss_decision', 'dl_applied', 'season','winner','win_by_runs']].corr()"
      ],
      "execution_count": 31,
      "outputs": []
    },
    {
      "cell_type": "code",
      "metadata": {
        "id": "8NT8UnXAVwo5",
        "colab": {
          "base_uri": "https://localhost:8080/"
        },
        "outputId": "c5e5ced0-c327-4e86-d7b5-0877ee78b712"
      },
      "source": [
        "X.shape"
      ],
      "execution_count": 32,
      "outputs": [
        {
          "output_type": "execute_result",
          "data": {
            "text/plain": [
              "(752, 6)"
            ]
          },
          "metadata": {
            "tags": []
          },
          "execution_count": 32
        }
      ]
    },
    {
      "cell_type": "code",
      "metadata": {
        "id": "Sz64vv0iTON5"
      },
      "source": [
        "y = data['label'].to_numpy()"
      ],
      "execution_count": 33,
      "outputs": []
    },
    {
      "cell_type": "code",
      "metadata": {
        "id": "RZmxXYa38fig",
        "colab": {
          "base_uri": "https://localhost:8080/"
        },
        "outputId": "c73a8ede-79c3-40e3-90f0-eb4593ac1aaf"
      },
      "source": [
        "y.shape"
      ],
      "execution_count": 34,
      "outputs": [
        {
          "output_type": "execute_result",
          "data": {
            "text/plain": [
              "(752,)"
            ]
          },
          "metadata": {
            "tags": []
          },
          "execution_count": 34
        }
      ]
    },
    {
      "cell_type": "markdown",
      "metadata": {
        "id": "2kpK3j_QfLwJ"
      },
      "source": [
        "implementing logistic regression model below with kfold cross validation.\n",
        "\n",
        "X_train, y_train are the training inputs and output respectively\n",
        "\n",
        "similarly X_test,y_test are the testing outputs of each fold. \n",
        "\n",
        "We are also calculating the accuracy, precision, recall,f1 score of each fold.\n",
        "\n",
        "The code below is without hyperparameter tuning and reports the average of all the folds."
      ]
    },
    {
      "cell_type": "markdown",
      "metadata": {
        "id": "t8WXPM1ryhC9"
      },
      "source": [
        "###Logistic Regression"
      ]
    },
    {
      "cell_type": "code",
      "metadata": {
        "id": "u8axg3S4TQvN"
      },
      "source": [
        "from sklearn.model_selection import train_test_split"
      ],
      "execution_count": 35,
      "outputs": []
    },
    {
      "cell_type": "code",
      "metadata": {
        "id": "fPaYzPeYUUWI"
      },
      "source": [
        "from sklearn.model_selection import KFold\n",
        "from sklearn.linear_model import LogisticRegression\n",
        "from sklearn.metrics import confusion_matrix, classification_report, precision_recall_fscore_support\n",
        "from sklearn.model_selection import GridSearchCV"
      ],
      "execution_count": 36,
      "outputs": []
    },
    {
      "cell_type": "code",
      "metadata": {
        "id": "oz_yF-XzUYv3",
        "colab": {
          "base_uri": "https://localhost:8080/"
        },
        "outputId": "444f8284-8651-4d3a-fe66-df72a502e810"
      },
      "source": [
        "kf = KFold(n_splits=5)\n",
        "kf.get_n_splits(X)\n",
        "acc_test = []\n",
        "acc_train = [] \n",
        "precision = []\n",
        "recall = []\n",
        "f1score = []\n",
        "for train_index, test_index in kf.split(X):\n",
        "    # print(\"TRAIN:\", train_index, \"TEST:\", test_index)\n",
        "    X_train, X_test = X[train_index], X[test_index]\n",
        "    y_train, y_test = y[train_index], y[test_index]\n",
        "\n",
        "    clf = LogisticRegression()\n",
        "    clf.fit(X_train, y_train)\n",
        "    # gridlr = GridSearchCV(LogisticRegression(),{\"penalty\":[\"l1\",\"l2\"],\"C\":[0.1,1,10,100]})\n",
        "    # gridlr.fit(X_train,y_train)\n",
        "    # print(\"best LR params:\",gridlr.best_params_)\n",
        "\n",
        "    y_pred = clf.predict(X_test)\n",
        "    tn, fp, fn, tp = confusion_matrix(y_test, y_pred).ravel()\n",
        "    print(tn, fp, fn, tp)\n",
        "    pr = tp / (tp+fp)\n",
        "    rec = tp/ (tp+fn)\n",
        "    f1 = 2*pr*rec/(pr+rec)\n",
        "    \n",
        "    precision.append(pr)\n",
        "    recall.append(rec)\n",
        "    f1score.append(f1)\n",
        "\n",
        "    print(\"pr\", tp / (tp+fp))\n",
        "    print('rec', tp/ (tp+fn))\n",
        "    acc_train.append(clf.score(X_train, y_train))\n",
        "    acc_test.append(clf.score(X_test, y_test))\n",
        "    # print(precision_recall_fscore_support(y_test, y_pred))\n",
        "    # print(classification_report(y_test, y_pred))"
      ],
      "execution_count": 108,
      "outputs": [
        {
          "output_type": "stream",
          "text": [
            "64 11 64 12\n",
            "pr 0.5217391304347826\n",
            "rec 0.15789473684210525\n",
            "59 37 41 14\n",
            "pr 0.27450980392156865\n",
            "rec 0.2545454545454545\n",
            "62 14 63 11\n",
            "pr 0.44\n",
            "rec 0.14864864864864866\n",
            "79 1 62 8\n",
            "pr 0.8888888888888888\n",
            "rec 0.11428571428571428\n",
            "76 14 51 9\n",
            "pr 0.391304347826087\n",
            "rec 0.15\n"
          ],
          "name": "stdout"
        }
      ]
    },
    {
      "cell_type": "code",
      "metadata": {
        "id": "ZJ1OAkRtWqtx",
        "colab": {
          "base_uri": "https://localhost:8080/"
        },
        "outputId": "6f6fb712-c2a9-4917-c456-476d9fcc5f96"
      },
      "source": [
        "sum(acc_train) / len(acc_train) #training accuracy"
      ],
      "execution_count": 109,
      "outputs": [
        {
          "output_type": "execute_result",
          "data": {
            "text/plain": [
              "0.5668232900868431"
            ]
          },
          "metadata": {
            "tags": []
          },
          "execution_count": 109
        }
      ]
    },
    {
      "cell_type": "code",
      "metadata": {
        "id": "WpwzQUTSW87L",
        "colab": {
          "base_uri": "https://localhost:8080/"
        },
        "outputId": "5f98ca9a-038a-4402-bd75-6e75db7d29f8"
      },
      "source": [
        "print(\"Logistic Regression: \")\n",
        "print(\"Accuracy:\",sum(acc_test) / len(acc_test),\"Precision:\",sum(precision)/len(precision),\"Recall:\",sum(recall)/len(recall),\"F1 Score:\",sum(f1score)/len(f1score))\n"
      ],
      "execution_count": 110,
      "outputs": [
        {
          "output_type": "stream",
          "text": [
            "Logistic Regression: \n",
            "Accuracy: 0.5240176600441501 Precision: 0.5032884342142654 Recall: 0.16507491086438456 F1 Score: 0.22963930469836588\n"
          ],
          "name": "stdout"
        }
      ]
    },
    {
      "cell_type": "markdown",
      "metadata": {
        "id": "Cyt7fBQRgFd4"
      },
      "source": [
        "We have implemented the decision tree classifier below using kfold cross validation. We have also calculated all the performance metrics as done above."
      ]
    },
    {
      "cell_type": "markdown",
      "metadata": {
        "id": "y2mp4zwGyq-l"
      },
      "source": [
        "### Decision Tree"
      ]
    },
    {
      "cell_type": "code",
      "metadata": {
        "id": "iadhG_QQUN3j"
      },
      "source": [
        "X_train, X_test, y_train, y_test = train_test_split(X, y, test_size=0.20, random_state=42)"
      ],
      "execution_count": 40,
      "outputs": []
    },
    {
      "cell_type": "code",
      "metadata": {
        "id": "gYvlLY-eyt8Z"
      },
      "source": [
        "from sklearn.model_selection import KFold\n",
        "from sklearn.tree import DecisionTreeClassifier\n",
        "from sklearn.metrics import confusion_matrix, classification_report, precision_recall_fscore_support"
      ],
      "execution_count": 41,
      "outputs": []
    },
    {
      "cell_type": "code",
      "metadata": {
        "colab": {
          "base_uri": "https://localhost:8080/"
        },
        "id": "vMO5g-qVyuVE",
        "outputId": "37549118-7e3d-49a1-9039-2e84018c6819"
      },
      "source": [
        "kf = KFold(n_splits=5)\n",
        "kf.get_n_splits(X)\n",
        "acc_test = []\n",
        "acc_train = [] \n",
        "precision = []\n",
        "recall = []\n",
        "f1score = []\n",
        "for train_index, test_index in kf.split(X):\n",
        "    # print(\"TRAIN:\", train_index, \"TEST:\", test_index)\n",
        "    X_train, X_test = X[train_index], X[test_index]\n",
        "    y_train, y_test = y[train_index], y[test_index]\n",
        "\n",
        "    clf = DecisionTreeClassifier()\n",
        "    clf.fit(X_train, y_train)\n",
        "  \n",
        "\n",
        "    y_pred = clf.predict(X_test)\n",
        "    tn, fp, fn, tp = confusion_matrix(y_test, y_pred).ravel()\n",
        "    print(tn, fp, fn, tp)\n",
        "    pr = tp / (tp+fp)\n",
        "    rec = tp/ (tp+fn)\n",
        "    f1 = 2*pr*rec/(pr+rec)\n",
        "    \n",
        "    precision.append(pr)\n",
        "    recall.append(rec)\n",
        "    f1score.append(f1)\n",
        "\n",
        "    print(\"pr\", tp / (tp+fp))\n",
        "    print('rec', tp/ (tp+fn))\n",
        "    acc_train.append(clf.score(X_train, y_train))\n",
        "    acc_test.append(clf.score(X_test, y_test))\n",
        "    # print(precision_recall_fscore_support(y_test, y_pred))\n",
        "    # print(classification_report(y_test, y_pred))"
      ],
      "execution_count": 111,
      "outputs": [
        {
          "output_type": "stream",
          "text": [
            "39 36 42 34\n",
            "pr 0.4857142857142857\n",
            "rec 0.4473684210526316\n",
            "43 53 26 29\n",
            "pr 0.35365853658536583\n",
            "rec 0.5272727272727272\n",
            "44 32 44 30\n",
            "pr 0.4838709677419355\n",
            "rec 0.40540540540540543\n",
            "49 31 43 27\n",
            "pr 0.46551724137931033\n",
            "rec 0.38571428571428573\n",
            "50 40 33 27\n",
            "pr 0.40298507462686567\n",
            "rec 0.45\n"
          ],
          "name": "stdout"
        }
      ]
    },
    {
      "cell_type": "code",
      "metadata": {
        "colab": {
          "base_uri": "https://localhost:8080/"
        },
        "id": "CzXqN9jEyumC",
        "outputId": "3896a98e-3438-4a48-831f-e14317b259e1"
      },
      "source": [
        "sum(acc_train) / len(acc_train) #training accuracy"
      ],
      "execution_count": 112,
      "outputs": [
        {
          "output_type": "execute_result",
          "data": {
            "text/plain": [
              "0.9444817883814904"
            ]
          },
          "metadata": {
            "tags": []
          },
          "execution_count": 112
        }
      ]
    },
    {
      "cell_type": "code",
      "metadata": {
        "colab": {
          "base_uri": "https://localhost:8080/"
        },
        "id": "62chkmVmy8w6",
        "outputId": "291d8d4a-b42f-4cbc-c740-0e85fb871a96"
      },
      "source": [
        "print(\"Decision Tree\")\n",
        "print(\"Accuracy:\",sum(acc_test) / len(acc_test),\"Precision:\",sum(precision)/len(precision),\"Recall:\",sum(recall)/len(recall),\"F1 Score:\",sum(f1score)/len(f1score))"
      ],
      "execution_count": 114,
      "outputs": [
        {
          "output_type": "stream",
          "text": [
            "Decision Tree\n",
            "Accuracy: 0.494719646799117 Precision: 0.43834922120955255 Recall: 0.44315216788900996 F1 Score: 0.4354718819746094\n"
          ],
          "name": "stdout"
        }
      ]
    },
    {
      "cell_type": "markdown",
      "metadata": {
        "id": "_Iuq5J98hGCQ"
      },
      "source": [
        "We have implemented the support vector machine classifier below using kfold cross validation. We have also calculated all the performance metrics as done above. This is again without hyperparameter tuning and reports the average of all the folds."
      ]
    },
    {
      "cell_type": "markdown",
      "metadata": {
        "id": "utYjwZ4FzIlJ"
      },
      "source": [
        "### SVM"
      ]
    },
    {
      "cell_type": "code",
      "metadata": {
        "id": "bsCWDXKZzK7R"
      },
      "source": [
        "X_train, X_test, y_train, y_test = train_test_split(X, y, test_size=0.20, random_state=42)"
      ],
      "execution_count": 115,
      "outputs": []
    },
    {
      "cell_type": "code",
      "metadata": {
        "id": "5uuf8odvzLOD"
      },
      "source": [
        "from sklearn.model_selection import KFold\n",
        "from sklearn.svm import SVC\n",
        "from sklearn.metrics import confusion_matrix, classification_report, precision_recall_fscore_support"
      ],
      "execution_count": 116,
      "outputs": []
    },
    {
      "cell_type": "code",
      "metadata": {
        "colab": {
          "base_uri": "https://localhost:8080/"
        },
        "id": "bAdAXYrAzLcH",
        "outputId": "96292331-8f28-4a45-f488-05ea1b91ddc1"
      },
      "source": [
        "kf = KFold(n_splits=5)\n",
        "kf.get_n_splits(X)\n",
        "acc_test = []\n",
        "acc_train = [] \n",
        "precision = []\n",
        "recall = []\n",
        "f1score = []\n",
        "for train_index, test_index in kf.split(X):\n",
        "    # print(\"TRAIN:\", train_index, \"TEST:\", test_index)\n",
        "    X_train, X_test = X[train_index], X[test_index]\n",
        "    y_train, y_test = y[train_index], y[test_index]\n",
        "\n",
        "    clf = SVC()\n",
        "    clf.fit(X_train, y_train)\n",
        "\n",
        "    y_pred = clf.predict(X_test)\n",
        "    tn, fp, fn, tp = confusion_matrix(y_test, y_pred).ravel()\n",
        "    print(tn, fp, fn, tp)\n",
        "    pr = tp / (tp+fp)\n",
        "    rec = tp/ (tp+fn)\n",
        "    f1 = 2*pr*rec/(pr+rec)\n",
        "    \n",
        "    precision.append(pr)\n",
        "    recall.append(rec)\n",
        "    f1score.append(f1)\n",
        "\n",
        "    print(\"pr\", tp / (tp+fp))\n",
        "    print('rec', tp/ (tp+fn))\n",
        "    acc_train.append(clf.score(X_train, y_train))\n",
        "    acc_test.append(clf.score(X_test, y_test))\n",
        "    # print(precision_recall_fscore_support(y_test, y_pred))\n",
        "    # print(classification_report(y_test, y_pred))"
      ],
      "execution_count": 117,
      "outputs": [
        {
          "output_type": "stream",
          "text": [
            "61 14 63 13\n",
            "pr 0.48148148148148145\n",
            "rec 0.17105263157894737\n",
            "58 38 38 17\n",
            "pr 0.3090909090909091\n",
            "rec 0.3090909090909091\n",
            "73 3 67 7\n",
            "pr 0.7\n",
            "rec 0.0945945945945946\n",
            "72 8 63 7\n",
            "pr 0.4666666666666667\n",
            "rec 0.1\n",
            "80 10 56 4\n",
            "pr 0.2857142857142857\n",
            "rec 0.06666666666666667\n"
          ],
          "name": "stdout"
        }
      ]
    },
    {
      "cell_type": "code",
      "metadata": {
        "colab": {
          "base_uri": "https://localhost:8080/"
        },
        "id": "PYllmsVZzLq7",
        "outputId": "45e4304f-a413-4e60-aac0-35613140f899"
      },
      "source": [
        "sum(acc_train) / len(acc_train) #training accuracy"
      ],
      "execution_count": 118,
      "outputs": [
        {
          "output_type": "execute_result",
          "data": {
            "text/plain": [
              "0.5847773091359363"
            ]
          },
          "metadata": {
            "tags": []
          },
          "execution_count": 118
        }
      ]
    },
    {
      "cell_type": "code",
      "metadata": {
        "colab": {
          "base_uri": "https://localhost:8080/"
        },
        "id": "HzD6spizzL78",
        "outputId": "79ffc049-6145-4276-86ff-57e55c7db5e0"
      },
      "source": [
        "print(\"SVM\")\n",
        "print(\"Accuracy:\",sum(acc_test) / len(acc_test),\"Precision:\",sum(precision)/len(precision),\"Recall:\",sum(recall)/len(recall),\"F1 Score:\",sum(f1score)/len(f1score))"
      ],
      "execution_count": 119,
      "outputs": [
        {
          "output_type": "stream",
          "text": [
            "SVM\n",
            "Accuracy: 0.5213509933774835 Precision: 0.44859066859066854 Recall: 0.14828096038622354 F1 Score: 0.2001997501369289\n"
          ],
          "name": "stdout"
        }
      ]
    },
    {
      "cell_type": "markdown",
      "metadata": {
        "id": "_ArhaiTkzmbB"
      },
      "source": [
        "### Random Forest"
      ]
    },
    {
      "cell_type": "markdown",
      "metadata": {
        "id": "AVPDoyLnhbjU"
      },
      "source": [
        "We have implemented the Random Forest classifier below using kfold cross validation. We have also calculated all the performance metrics as done above. This is without hyperparameter tuning and reports the average of all the folds."
      ]
    },
    {
      "cell_type": "code",
      "metadata": {
        "id": "5JiljzuMzoHh"
      },
      "source": [
        "from sklearn.model_selection import KFold\n",
        "from sklearn.ensemble import RandomForestClassifier\n",
        "from sklearn.metrics import confusion_matrix, classification_report, precision_recall_fscore_support\n",
        "from sklearn.model_selection import GridSearchCV"
      ],
      "execution_count": 120,
      "outputs": []
    },
    {
      "cell_type": "code",
      "metadata": {
        "colab": {
          "base_uri": "https://localhost:8080/"
        },
        "id": "cQR6gaEwzo3z",
        "outputId": "7e189066-55ca-44d2-a036-aa1dc6258ccf"
      },
      "source": [
        "kf = KFold(n_splits=5)\n",
        "kf.get_n_splits(X)\n",
        "acc_test = []\n",
        "acc_train = [] \n",
        "precision = []\n",
        "recall = []\n",
        "f1score = []\n",
        "for train_index, test_index in kf.split(X):\n",
        "    # print(\"TRAIN:\", train_index, \"TEST:\", test_index)\n",
        "    X_train, X_test = X[train_index], X[test_index]\n",
        "    y_train, y_test = y[train_index], y[test_index]\n",
        "\n",
        "    \n",
        "  \n",
        "    clf = RandomForestClassifier()\n",
        "    clf.fit(X_train, y_train)\n",
        "    y_pred = gridrf.predict(X_test)\n",
        "\n",
        "    y_pred = clf.predict(X_test)\n",
        "    tn, fp, fn, tp = confusion_matrix(y_test, y_pred).ravel()\n",
        "    print(tn, fp, fn, tp)\n",
        "    pr = tp / (tp+fp)\n",
        "    rec = tp/ (tp+fn)\n",
        "    f1 = 2*pr*rec/(pr+rec)\n",
        "    \n",
        "    precision.append(pr)\n",
        "    recall.append(rec)\n",
        "    f1score.append(f1)\n",
        "\n",
        "    print(\"pr\", tp / (tp+fp))\n",
        "    print('rec', tp/ (tp+fn))\n",
        "    acc_train.append(gridrf.score(X_train, y_train))\n",
        "    acc_test.append(gridrf.score(X_test, y_test))\n",
        "    # print(precision_recall_fscore_support(y_test, y_pred))\n",
        "    # print(classification_report(y_test, y_pred))"
      ],
      "execution_count": 121,
      "outputs": [
        {
          "output_type": "stream",
          "text": [
            "43 32 45 31\n",
            "pr 0.49206349206349204\n",
            "rec 0.40789473684210525\n",
            "52 44 26 29\n",
            "pr 0.3972602739726027\n",
            "rec 0.5272727272727272\n",
            "46 30 46 28\n",
            "pr 0.4827586206896552\n",
            "rec 0.3783783783783784\n",
            "45 35 44 26\n",
            "pr 0.4262295081967213\n",
            "rec 0.37142857142857144\n",
            "53 37 36 24\n",
            "pr 0.39344262295081966\n",
            "rec 0.4\n"
          ],
          "name": "stdout"
        }
      ]
    },
    {
      "cell_type": "code",
      "metadata": {
        "id": "8raJXrzxzpEe",
        "colab": {
          "base_uri": "https://localhost:8080/"
        },
        "outputId": "3ad478b6-fd6d-43f7-8a98-bc99f9188f88"
      },
      "source": [
        "sum(acc_train) / len(acc_train) #training accuracy"
      ],
      "execution_count": 122,
      "outputs": [
        {
          "output_type": "execute_result",
          "data": {
            "text/plain": [
              "0.5771294796601456"
            ]
          },
          "metadata": {
            "tags": []
          },
          "execution_count": 122
        }
      ]
    },
    {
      "cell_type": "code",
      "metadata": {
        "id": "YCmeZffGzpQD",
        "colab": {
          "base_uri": "https://localhost:8080/"
        },
        "outputId": "eb66672e-1eef-4d78-bdc8-2c4a2ac71958"
      },
      "source": [
        "print(\"Random Forest\")\n",
        "print(\"Accuracy:\",sum(acc_test) / len(acc_test),\"Precision:\",sum(precision)/len(precision),\"Recall:\",sum(recall)/len(recall),\"F1 Score:\",sum(f1score)/len(f1score))"
      ],
      "execution_count": 123,
      "outputs": [
        {
          "output_type": "stream",
          "text": [
            "Random Forest\n",
            "Accuracy: 0.5771567328918322 Precision: 0.43835090357465817 Recall: 0.4169948827843564 F1 Score: 0.4234102738943159\n"
          ],
          "name": "stdout"
        }
      ]
    },
    {
      "cell_type": "code",
      "metadata": {
        "id": "Te4xxrvxzpmQ"
      },
      "source": [
        ""
      ],
      "execution_count": null,
      "outputs": []
    },
    {
      "cell_type": "markdown",
      "metadata": {
        "id": "5MPmUuT39AlR"
      },
      "source": [
        "### All Together"
      ]
    },
    {
      "cell_type": "markdown",
      "metadata": {
        "id": "sxSpPEIvh41L"
      },
      "source": [
        "Below is a classification task done side by side using different models and hyperparameter tuning. We have also included MLPclassifier in this deadline which can also be found below. We shuffle the dataset to begin with and then find the best hyperparameters using gridsearch."
      ]
    },
    {
      "cell_type": "code",
      "metadata": {
        "id": "9v1VX-AvUXb7",
        "colab": {
          "base_uri": "https://localhost:8080/"
        },
        "outputId": "77a0041a-de3e-453d-b3e1-478ee91c5f81"
      },
      "source": [
        "from sklearn.model_selection import train_test_split\n",
        "\n",
        "\n",
        "from sklearn.utils import shuffle\n",
        "X, y = shuffle(X, y, random_state=3)\n",
        "\n",
        "X_train,X_test,y_train,y_test = train_test_split(X,y,test_size = 0.2)\n",
        "from sklearn.linear_model import LogisticRegression\n",
        "from sklearn.svm import SVC\n",
        "from sklearn.ensemble import RandomForestClassifier\n",
        "from sklearn.tree import DecisionTreeClassifier\n",
        "from sklearn.model_selection import GridSearchCV\n",
        "from sklearn.neural_network import MLPClassifier\n",
        "clf = LogisticRegression(random_state=0)\n",
        "clf.fit(X_train, y_train)\n",
        "gridlr = GridSearchCV(LogisticRegression(),{\"penalty\":[\"l1\",\"l2\"],\"C\":[0.1,1,10,100]})\n",
        "gridlr.fit(X_train,y_train)\n",
        "print(\"best LR params:\",gridlr.best_params_)\n",
        "\n",
        "rf = RandomForestClassifier()\n",
        "rf.fit(X_train,y_train)\n",
        "gridrf = GridSearchCV(RandomForestClassifier(),{\"n_estimators\" :[1,10,100,1000],\"criterion\":[\"gini\", \"entropy\"],\"max_depth\":[1,2,3,4,5,10]})\n",
        "gridrf.fit(X_train,y_train)\n",
        "print(\"Best RF params:\",gridrf.best_params_)\n",
        "\n",
        "dt = DecisionTreeClassifier()\n",
        "dt.fit(X_train,y_train)\n",
        "griddt = GridSearchCV(DecisionTreeClassifier(),{\"criterion\":[\"gini\", \"entropy\"],\"splitter\":[\"best\",\"random\"],\"max_depth\":[1,2,3,4,5,10]})\n",
        "griddt.fit(X_train,y_train)\n",
        "print(\"Best DT params:\",griddt.best_params_)\n",
        "\n",
        "svcpred = SVC()\n",
        "svcpred.fit(X_train,y_train)\n",
        "gridsvc = GridSearchCV(SVC(),{\"C\":[0.1,1,10,100],\"kernel\":[\"linear\", \"poly\", \"rbf\", ],\"gamma\":[\"scale\",\"auto\"]})\n",
        "gridsvc.fit(X_train,y_train)\n",
        "print(\"Best SVC params:\",gridsvc.best_params_)\n",
        "\n",
        "mlp = MLPClassifier(hidden_layer_sizes=(8,6,4,2, ))\n",
        "gridmlp = GridSearchCV(MLPClassifier(),{\"hidden_layer_sizes\":[(8,6,4,2, ),(10,8,6,),(12,8,4,2),(8,8,4,2)],\"activation\":[\"relu\",\"tanh\",\"logistic\"],\"learning_rate\":[\"constant\",\"adaptive\"],\"max_iter\":[500],\"early_stopping\":[True]})\n",
        "gridmlp.fit(X_train,y_train)\n",
        "print(\"Best MLP params:\",gridmlp.best_params_)\n",
        "# mlp.fit(X_train,y_train)\n"
      ],
      "execution_count": 103,
      "outputs": [
        {
          "output_type": "stream",
          "text": [
            "/usr/local/lib/python3.6/dist-packages/sklearn/model_selection/_validation.py:536: FitFailedWarning: Estimator fit failed. The score on this train-test partition for these parameters will be set to nan. Details: \n",
            "ValueError: Solver lbfgs supports only 'l2' or 'none' penalties, got l1 penalty.\n",
            "\n",
            "  FitFailedWarning)\n",
            "/usr/local/lib/python3.6/dist-packages/sklearn/model_selection/_validation.py:536: FitFailedWarning: Estimator fit failed. The score on this train-test partition for these parameters will be set to nan. Details: \n",
            "ValueError: Solver lbfgs supports only 'l2' or 'none' penalties, got l1 penalty.\n",
            "\n",
            "  FitFailedWarning)\n",
            "/usr/local/lib/python3.6/dist-packages/sklearn/model_selection/_validation.py:536: FitFailedWarning: Estimator fit failed. The score on this train-test partition for these parameters will be set to nan. Details: \n",
            "ValueError: Solver lbfgs supports only 'l2' or 'none' penalties, got l1 penalty.\n",
            "\n",
            "  FitFailedWarning)\n",
            "/usr/local/lib/python3.6/dist-packages/sklearn/model_selection/_validation.py:536: FitFailedWarning: Estimator fit failed. The score on this train-test partition for these parameters will be set to nan. Details: \n",
            "ValueError: Solver lbfgs supports only 'l2' or 'none' penalties, got l1 penalty.\n",
            "\n",
            "  FitFailedWarning)\n"
          ],
          "name": "stderr"
        },
        {
          "output_type": "stream",
          "text": [
            "best LR params: {'C': 0.1, 'penalty': 'l2'}\n",
            "Best RF params: {'criterion': 'entropy', 'max_depth': 4, 'n_estimators': 100}\n",
            "Best DT params: {'criterion': 'gini', 'max_depth': 4, 'splitter': 'random'}\n",
            "Best SVC params: {'C': 1, 'gamma': 'scale', 'kernel': 'linear'}\n",
            "Best MLP params: {'activation': 'tanh', 'early_stopping': True, 'hidden_layer_sizes': (8, 8, 4, 2), 'learning_rate': 'constant', 'max_iter': 500}\n"
          ],
          "name": "stdout"
        }
      ]
    },
    {
      "cell_type": "code",
      "metadata": {
        "id": "yZgs-r-yUkgY"
      },
      "source": [
        "y_pred_logreg = gridlr.predict(X_test)\n",
        "y_pred_svc = gridsvc.predict(X_test)\n",
        "y_pred_rf = gridrf.predict(X_test)\n",
        "y_pred_dt = griddt.predict(X_test)\n",
        "y_pred_mlp = gridmlp.predict(X_test)"
      ],
      "execution_count": 104,
      "outputs": []
    },
    {
      "cell_type": "code",
      "metadata": {
        "id": "jr74iobVUngH"
      },
      "source": [
        "from sklearn.metrics import classification_report,accuracy_score"
      ],
      "execution_count": 105,
      "outputs": []
    },
    {
      "cell_type": "code",
      "metadata": {
        "id": "MOeqBCxZamsw",
        "colab": {
          "base_uri": "https://localhost:8080/"
        },
        "outputId": "7d91cfe5-9e41-4f2f-e8f9-7b5f040b1b1e"
      },
      "source": [
        "print(\"Logistic Regression: \")\n",
        "print(classification_report(y_test, y_pred_logreg))\n",
        "\n",
        "print(\"Decision Tree: \")\n",
        "print(classification_report(y_test, y_pred_dt))\n",
        "\n",
        "print(\"SVM: \")\n",
        "print(classification_report(y_test, y_pred_svc))\n",
        "\n",
        "print(\"Random Forest: \")\n",
        "print(classification_report(y_test, y_pred_rf))\n",
        "print(\"MLP: \")\n",
        "print(classification_report(y_test, y_pred_mlp))"
      ],
      "execution_count": 106,
      "outputs": [
        {
          "output_type": "stream",
          "text": [
            "Logistic Regression: \n",
            "              precision    recall  f1-score   support\n",
            "\n",
            "         0.0       0.63      0.81      0.71        95\n",
            "         1.0       0.38      0.20      0.26        56\n",
            "\n",
            "    accuracy                           0.58       151\n",
            "   macro avg       0.51      0.50      0.48       151\n",
            "weighted avg       0.54      0.58      0.54       151\n",
            "\n",
            "Decision Tree: \n",
            "              precision    recall  f1-score   support\n",
            "\n",
            "         0.0       0.64      0.76      0.69        95\n",
            "         1.0       0.39      0.27      0.32        56\n",
            "\n",
            "    accuracy                           0.58       151\n",
            "   macro avg       0.52      0.51      0.51       151\n",
            "weighted avg       0.55      0.58      0.55       151\n",
            "\n",
            "SVM: \n",
            "              precision    recall  f1-score   support\n",
            "\n",
            "         0.0       0.63      0.81      0.71        95\n",
            "         1.0       0.36      0.18      0.24        56\n",
            "\n",
            "    accuracy                           0.58       151\n",
            "   macro avg       0.49      0.49      0.47       151\n",
            "weighted avg       0.53      0.58      0.53       151\n",
            "\n",
            "Random Forest: \n",
            "              precision    recall  f1-score   support\n",
            "\n",
            "         0.0       0.63      0.74      0.68        95\n",
            "         1.0       0.38      0.27      0.31        56\n",
            "\n",
            "    accuracy                           0.56       151\n",
            "   macro avg       0.50      0.50      0.50       151\n",
            "weighted avg       0.54      0.56      0.54       151\n",
            "\n",
            "MLP: \n",
            "              precision    recall  f1-score   support\n",
            "\n",
            "         0.0       0.63      1.00      0.77        95\n",
            "         1.0       0.00      0.00      0.00        56\n",
            "\n",
            "    accuracy                           0.63       151\n",
            "   macro avg       0.31      0.50      0.39       151\n",
            "weighted avg       0.40      0.63      0.49       151\n",
            "\n"
          ],
          "name": "stdout"
        },
        {
          "output_type": "stream",
          "text": [
            "/usr/local/lib/python3.6/dist-packages/sklearn/metrics/_classification.py:1272: UndefinedMetricWarning: Precision and F-score are ill-defined and being set to 0.0 in labels with no predicted samples. Use `zero_division` parameter to control this behavior.\n",
            "  _warn_prf(average, modifier, msg_start, len(result))\n"
          ],
          "name": "stderr"
        }
      ]
    }
  ]
}