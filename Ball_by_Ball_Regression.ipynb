{
  "nbformat": 4,
  "nbformat_minor": 0,
  "metadata": {
    "colab": {
      "name": "Ball_by_Ball-Regression.ipynb",
      "provenance": [],
      "collapsed_sections": [],
      "toc_visible": true
    },
    "kernelspec": {
      "name": "python3",
      "display_name": "Python 3"
    }
  },
  "cells": [
    {
      "cell_type": "code",
      "metadata": {
        "colab": {
          "base_uri": "https://localhost:8080/"
        },
        "id": "q89mGjpK0ADA",
        "outputId": "cfe75290-6ec0-473d-b3b0-3c78a22f3fe1"
      },
      "source": [
        "from google.colab import drive\n",
        "drive.mount('/content/drive') "
      ],
      "execution_count": 29,
      "outputs": [
        {
          "output_type": "stream",
          "text": [
            "Drive already mounted at /content/drive; to attempt to forcibly remount, call drive.mount(\"/content/drive\", force_remount=True).\n"
          ],
          "name": "stdout"
        }
      ]
    },
    {
      "cell_type": "code",
      "metadata": {
        "id": "swZqUR7L0GoV"
      },
      "source": [
        "import os\n",
        "os.chdir(\"/content/drive/My Drive/MLGroupProject/Dataset/\")"
      ],
      "execution_count": 30,
      "outputs": []
    },
    {
      "cell_type": "code",
      "metadata": {
        "id": "RX7B9Tfk0HCH"
      },
      "source": [
        "import numpy as np \n",
        "import pandas as pd "
      ],
      "execution_count": 31,
      "outputs": []
    },
    {
      "cell_type": "markdown",
      "metadata": {
        "id": "pP9E_uKNsp2T"
      },
      "source": [
        "Read ball by ball data with vectorized player names "
      ]
    },
    {
      "cell_type": "code",
      "metadata": {
        "id": "UVwI2R1D7Ra-"
      },
      "source": [
        "final_df = pd.read_csv(\"Ball_by_ball.csv\")"
      ],
      "execution_count": 32,
      "outputs": []
    },
    {
      "cell_type": "code",
      "metadata": {
        "colab": {
          "base_uri": "https://localhost:8080/"
        },
        "id": "8sxuc6jH1vOB",
        "outputId": "769b18a7-0912-4016-ff9a-c05c4ddbb6c7"
      },
      "source": [
        "y = final_df['total_runs'].to_numpy()\n",
        "\n",
        "X = final_df.drop(['total_runs'], axis=1)\n",
        "print(X.columns)\n",
        "\n",
        "X = X.to_numpy()"
      ],
      "execution_count": 33,
      "outputs": [
        {
          "output_type": "stream",
          "text": [
            "Index(['Unnamed: 0', 'inning', 'over', 'ball', 'season', 'batting_team',\n",
            "       'bowling_team', 'batsman_name_0', 'batsman_name_1', 'batsman_name_2',\n",
            "       'batsman_name_3', 'batsman_name_4', 'batsman_name_5', 'batsman_name_6',\n",
            "       'batsman_name_7', 'non_striker_name_0', 'non_striker_name_1',\n",
            "       'non_striker_name_2', 'non_striker_name_3', 'non_striker_name_4',\n",
            "       'non_striker_name_5', 'non_striker_name_6', 'non_striker_name_7',\n",
            "       'bowler_name_0', 'bowler_name_1', 'bowler_name_2', 'bowler_name_3',\n",
            "       'bowler_name_4', 'bowler_name_5', 'bowler_name_6', 'bowler_name_7'],\n",
            "      dtype='object')\n"
          ],
          "name": "stdout"
        }
      ]
    },
    {
      "cell_type": "code",
      "metadata": {
        "colab": {
          "base_uri": "https://localhost:8080/"
        },
        "id": "DbAI8qNEawgH",
        "outputId": "3dfe7d2d-1fc0-4133-a8bb-72ae25f979db"
      },
      "source": [
        "X.shape, y.shape"
      ],
      "execution_count": 34,
      "outputs": [
        {
          "output_type": "execute_result",
          "data": {
            "text/plain": [
              "((176235, 31), (176235,))"
            ]
          },
          "metadata": {
            "tags": []
          },
          "execution_count": 34
        }
      ]
    },
    {
      "cell_type": "code",
      "metadata": {
        "id": "g6hgcfABbS7-"
      },
      "source": [
        "from sklearn.ensemble import RandomForestRegressor\n",
        "from sklearn.ensemble import BaggingRegressor\n",
        "from sklearn.linear_model import SGDRegressor, LinearRegression\n",
        "from sklearn import svm\n",
        "from sklearn.neural_network import MLPRegressor\n",
        "from sklearn.model_selection import train_test_split\n",
        "from sklearn.model_selection import KFold\n",
        "from sklearn.metrics import mean_squared_error, mean_absolute_error\n",
        "from sklearn.model_selection import GridSearchCV"
      ],
      "execution_count": 41,
      "outputs": []
    },
    {
      "cell_type": "markdown",
      "metadata": {
        "id": "bOhcTUk_svqz"
      },
      "source": [
        "Initialize different Regression models "
      ]
    },
    {
      "cell_type": "code",
      "metadata": {
        "id": "eD_-FVWYnkEq"
      },
      "source": [
        "classifier_dict = {\"LinearRegression\": LinearRegression(),\n",
        "                   \"BaggingRegressor\": BaggingRegressor(),\n",
        "                   \"RandomForestRegressor\": RandomForestRegressor(),  \n",
        "                   \"SGDRegressor\": SGDRegressor(), \n",
        "                   \"MLPRegressor\": MLPRegressor((31, 24, 20, 18, 14, 10, 4), early_stopping=True, max_iter=200)}"
      ],
      "execution_count": 36,
      "outputs": []
    },
    {
      "cell_type": "code",
      "metadata": {
        "id": "Qdtr0sCytChX"
      },
      "source": [
        "from sklearn.model_selection import StratifiedShuffleSplit"
      ],
      "execution_count": null,
      "outputs": []
    },
    {
      "cell_type": "code",
      "metadata": {
        "colab": {
          "base_uri": "https://localhost:8080/"
        },
        "id": "4xhiNdPt7ytg",
        "outputId": "5cf235a8-664b-4e36-eb05-ce3f76a29b30"
      },
      "source": [
        "for clf_name, classifier in classifier_dict.items():\n",
        "    n_splits = 5\n",
        "    kf = KFold(n_splits=n_splits, shuffle=True, random_state=7)\n",
        "    kf.get_n_splits(X)\n",
        "    mae_test = []\n",
        "    mae_train = [] \n",
        "    print(\"Number of folds: {}, for Model: {}\".format(n_splits, clf_name))\n",
        "    for train_index, test_index in kf.split(X):\n",
        "        # print(\"TRAIN:\", train_index, \"TEST:\", test_index)\n",
        "        X_train, X_test = X[train_index], X[test_index]\n",
        "        y_train, y_test = y[train_index], y[test_index]\n",
        "\n",
        "        clf =  classifier ## Initialize model \n",
        "        clf.fit(X_train, y_train)\n",
        "        y_pred_train = clf.predict(X_train) \n",
        "\n",
        "        y_pred = clf.predict(X_test) ## predict on the test set \n",
        "\n",
        "        ## Calculate MAE error \n",
        "        mae_train.append(mean_absolute_error(y_pred_train, y_train))\n",
        "        mae_test.append(mean_absolute_error(y_pred, y_test))\n",
        "        print(mean_absolute_error(y_pred, y_test))\n",
        "\n",
        "    print(\"AVG MAE train: \",clf_name, sum(mae_train) / len(mae_train))\n",
        "    print(\"AVG MAE test\",clf_name, sum(mae_test) / len(mae_test))"
      ],
      "execution_count": 39,
      "outputs": [
        {
          "output_type": "stream",
          "text": [
            "Number of folds: 5, for Model: BaggingRegressor\n",
            "1.3599426901580276\n",
            "1.3437966351746249\n",
            "1.3492155360739921\n",
            "1.3550685164694867\n",
            "1.3586149175816382\n",
            "AVG MAE train:  BaggingRegressor 0.520095469117939\n",
            "AVG MAE test BaggingRegressor 1.353327659091554\n",
            "Number of folds: 5, for Model: RandomForestRegressor\n",
            "1.3162513121684116\n",
            "1.3051959031974354\n",
            "1.3052818679603937\n",
            "1.315931284932051\n",
            "1.3175365279314553\n",
            "AVG MAE train:  RandomForestRegressor 0.4857882656680001\n",
            "AVG MAE test RandomForestRegressor 1.3120393792379494\n",
            "Number of folds: 5, for Model: SGDRegressor\n",
            "1.1717421163147203e+18\n",
            "2.2558309736821322e+17\n",
            "4.270959496628644e+17\n",
            "9.21262856960347e+17\n",
            "4.374386124724628e+17\n",
            "AVG MAE train:  SGDRegressor 6.375046511937967e+17\n",
            "AVG MAE test SGDRegressor 6.366245265557215e+17\n",
            "Number of folds: 5, for Model: MLPRegressor\n",
            "1.2080828644385686\n",
            "1.1965462159183768\n",
            "1.1800820482111118\n",
            "1.1815684986186707\n",
            "1.193577019204681\n",
            "AVG MAE train:  MLPRegressor 1.1914437791752088\n",
            "AVG MAE test MLPRegressor 1.1919713292782819\n"
          ],
          "name": "stdout"
        }
      ]
    },
    {
      "cell_type": "markdown",
      "metadata": {
        "id": "PrFGL6fcs2Uq"
      },
      "source": [
        "Create dictionary for diferent hyperparameters for Grid Search "
      ]
    },
    {
      "cell_type": "code",
      "metadata": {
        "id": "SdgvT15f7_JQ"
      },
      "source": [
        "classifier_dict = {\"BaggingRegressor\": [BaggingRegressor, {'n_estimators': [10, 50, 100, 150, 200]}],\n",
        "                   \"RandomForestRegressor\": [RandomForestRegressor, {'n_estimators':[50, 100, 150, 200], \n",
        "                                                                      'criterion': ['mse','mae'], \n",
        "                                                                      'max_depth': [2,3,4,5,10], \n",
        "                                                                      'max_features': ['auto', 'sqrt', 'log2']}],  \n",
        "                   \"SGDRegressor\": [SGDRegressor, {'loss': ['squared_loss', 'huber', 'epsilon_insensitive', 'squared_epsilon_insensitive'],\n",
        "                                                   'penalty': ['l1', 'l2', 'elasticnet'],\n",
        "                                                   'learning_rate': ['constant', 'optimal', 'invscaling', 'adaptive'],\n",
        "                                                   'early_stopping':['True'],\n",
        "                                                   'max_iter': 2000}], \n",
        "                   \"MLPRegressor\": [MLPRegressor, {'hidden_layer_sizes': [(31, 24, 20, 18, 14, 10, 4), (32, 16, 8, 4), (31, 24, 20, 18, 14, 10, 8, 4)], \n",
        "                                                   'activation': ['tanh', 'relu'], \n",
        "                                                   'solver': ['lbfgs', 'sgd', 'adam'],\n",
        "                                                   'learning_rate': ['constant', 'optimal', 'invscaling', 'adaptive'],\n",
        "                                                   'early_stopping':['True'],\n",
        "                                                   'max_iter': [2000]}]}"
      ],
      "execution_count": null,
      "outputs": []
    },
    {
      "cell_type": "code",
      "metadata": {
        "id": "v05pQFQOuA-H"
      },
      "source": [
        "for clf_name, [classifier, grid_vals] in classifier_dict.items():\n",
        "    n_splits = 6\n",
        "    X_train, X_test, y_train, y_test = train_test_split(X, y, test_size=0.33, random_state=42)\n",
        "    mae_test = []\n",
        "    mae_train = [] \n",
        "\n",
        "    clf =  classifier()\n",
        "    grclf = GridSearchCV(clf, grid_vals) ## intialize the grid search \n",
        "    grclf.fit(X_train, y_train)\n",
        "\n",
        "    y_pred_train = grclf.predict(X_train) \n",
        "    y_pred = grclf.predict(X_test)\n",
        "\n",
        "    ## Calculate MAE error on train and test using the best model \n",
        "    mae_train.append(mean_absolute_error(y_pred_train, y_train))\n",
        "    mae_test.append(mean_absolute_error(y_pred, y_test))\n",
        "\n",
        "    print(\"model name : \", clf_name)\n",
        "    print(mean_absolute_error(y_pred, y_test))\n",
        "\n",
        "    print(\"Best parameters: \", grclf.best_params_)\n",
        "    print(\"AVG MAE train: \",clf_name, sum(mae_train) / len(mae_train))\n",
        "    print(\"AVG MAE test\",clf_name, sum(mae_test) / len(mae_test))"
      ],
      "execution_count": null,
      "outputs": []
    }
  ]
}