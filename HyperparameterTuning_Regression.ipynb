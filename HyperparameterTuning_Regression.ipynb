{
  "nbformat": 4,
  "nbformat_minor": 0,
  "metadata": {
    "colab": {
      "name": "HyperparameterTuning_Regression.ipynb",
      "provenance": [],
      "collapsed_sections": [],
      "toc_visible": true
    },
    "kernelspec": {
      "name": "python3",
      "display_name": "Python 3"
    }
  },
  "cells": [
    {
      "cell_type": "code",
      "metadata": {
        "colab": {
          "base_uri": "https://localhost:8080/"
        },
        "id": "q89mGjpK0ADA",
        "outputId": "88c3c3f9-2551-468a-f1d7-c639b6f9eff5"
      },
      "source": [
        "from google.colab import drive\n",
        "drive.mount('/content/drive') "
      ],
      "execution_count": 5,
      "outputs": [
        {
          "output_type": "stream",
          "text": [
            "Mounted at /content/drive\n"
          ],
          "name": "stdout"
        }
      ]
    },
    {
      "cell_type": "code",
      "metadata": {
        "id": "swZqUR7L0GoV"
      },
      "source": [
        "import os\n",
        "os.chdir(\"/content/drive/My Drive/MLGroupProject/Dataset/\")"
      ],
      "execution_count": 6,
      "outputs": []
    },
    {
      "cell_type": "code",
      "metadata": {
        "id": "RX7B9Tfk0HCH"
      },
      "source": [
        "import numpy as np # linear algebra\n",
        "import pandas as pd # data processing, CSV file I/O (e.g. pd.read_csv)"
      ],
      "execution_count": 7,
      "outputs": []
    },
    {
      "cell_type": "code",
      "metadata": {
        "id": "wnVdbT7Q1DgQ"
      },
      "source": [
        "delivery=pd.read_csv('./kaggle_data/deliveries.csv')\n",
        "matches=pd.read_csv('./kaggle_data/matches.csv')  "
      ],
      "execution_count": 8,
      "outputs": []
    },
    {
      "cell_type": "code",
      "metadata": {
        "id": "tz14cTtX1EMo"
      },
      "source": [
        "over_score = delivery.groupby(['match_id','inning','over'])['total_runs'].sum().reset_index()"
      ],
      "execution_count": 9,
      "outputs": []
    },
    {
      "cell_type": "code",
      "metadata": {
        "id": "0vlXRygl1IcT"
      },
      "source": [
        "df_innings = delivery.groupby(['match_id','inning'])"
      ],
      "execution_count": 10,
      "outputs": []
    },
    {
      "cell_type": "code",
      "metadata": {
        "id": "6WOU88Wt1NsF"
      },
      "source": [
        "def calculate_balls_runs(df, nb_balls, df_new):\n",
        "    for curr_ball in range(0,len(df), nb_balls):\n",
        "        if (curr_ball+nb_balls) < len(df):\n",
        "\n",
        "            ## Sumation for the number of balls \n",
        "            runs_in_balls = df.iloc[curr_ball: curr_ball+nb_balls]['total_runs'].sum() \n",
        "\n",
        "            ## Create a new row for the df\n",
        "            new_element = [df.iloc[curr_ball]['match_id'], df.iloc[curr_ball]['inning'], df.iloc[curr_ball]['batting_team'], df.iloc[curr_ball]['bowling_team'], runs_in_balls]\n",
        "            # print(new_element)\n",
        "\n",
        "            ## Add the new row \n",
        "            df_new.loc[len(df_new.index)] = new_element \n",
        "            \n",
        "            # print(runs_in_balls)"
      ],
      "execution_count": 48,
      "outputs": []
    },
    {
      "cell_type": "markdown",
      "metadata": {
        "id": "ngrMG_T_gAqk"
      },
      "source": [
        "We take two ball intervals:\r\n",
        "1. nb_balls = 12\r\n",
        "2. nb_balls = 30\r\n"
      ]
    },
    {
      "cell_type": "code",
      "metadata": {
        "id": "eqXFOG9p1Ozr"
      },
      "source": [
        "def create_new_df(nb_balls=30):\n",
        "\n",
        "    ## Columns for the new df \n",
        "    df_per_balls_columns =  ['match_id', 'inning', 'batting_team', 'bowling_team', 'total_runs']\n",
        "    \n",
        "    ## Initialize the new df\n",
        "    df_per_balls = pd.DataFrame(columns=df_per_balls_columns)\n",
        "\n",
        "    ## Build the new df \n",
        "    df_innings.apply(calculate_balls_runs, nb_balls=10, df_new=df_per_balls)\n",
        "\n",
        "    return df_per_balls"
      ],
      "execution_count": 49,
      "outputs": []
    },
    {
      "cell_type": "code",
      "metadata": {
        "id": "_UV9vR3E18lq"
      },
      "source": [
        "#new dataframe for the specified interval\r\n",
        "new_df = create_new_df(nb_balls=30)\r\n",
        "new_df[:10]"
      ],
      "execution_count": null,
      "outputs": []
    },
    {
      "cell_type": "code",
      "metadata": {
        "colab": {
          "base_uri": "https://localhost:8080/"
        },
        "id": "6mFqlSmO2-BE",
        "outputId": "26ea7a64-71ec-48d9-9716-f554baac1970"
      },
      "source": [
        "new_df.columns"
      ],
      "execution_count": 14,
      "outputs": [
        {
          "output_type": "execute_result",
          "data": {
            "text/plain": [
              "Index(['match_id', 'inning', 'batting_team', 'bowling_team', 'total_runs'], dtype='object')"
            ]
          },
          "metadata": {
            "tags": []
          },
          "execution_count": 14
        }
      ]
    },
    {
      "cell_type": "code",
      "metadata": {
        "colab": {
          "base_uri": "https://localhost:8080/"
        },
        "id": "lrUoGrOt4T3C",
        "outputId": "11cdd40a-a856-42ae-857b-08ad6f89d2a8"
      },
      "source": [
        "new_df.shape"
      ],
      "execution_count": 15,
      "outputs": [
        {
          "output_type": "execute_result",
          "data": {
            "text/plain": [
              "(17197, 5)"
            ]
          },
          "metadata": {
            "tags": []
          },
          "execution_count": 15
        }
      ]
    },
    {
      "cell_type": "code",
      "metadata": {
        "id": "V_sxQs2H4ojS"
      },
      "source": [
        "matches = matches.rename(columns={\"id\": \"match_id\"})"
      ],
      "execution_count": 16,
      "outputs": []
    },
    {
      "cell_type": "code",
      "metadata": {
        "id": "SRxgW-kb4WDz"
      },
      "source": [
        "merged_df = pd.merge(new_df, matches, on='match_id')"
      ],
      "execution_count": 17,
      "outputs": []
    },
    {
      "cell_type": "code",
      "metadata": {
        "colab": {
          "base_uri": "https://localhost:8080/"
        },
        "id": "rjkvVlLX4om_",
        "outputId": "25a84c1e-13e3-4ac6-9e2c-616709b5214a"
      },
      "source": [
        "merged_df.shape"
      ],
      "execution_count": 18,
      "outputs": [
        {
          "output_type": "execute_result",
          "data": {
            "text/plain": [
              "(17197, 22)"
            ]
          },
          "metadata": {
            "tags": []
          },
          "execution_count": 18
        }
      ]
    },
    {
      "cell_type": "code",
      "metadata": {
        "colab": {
          "base_uri": "https://localhost:8080/",
          "height": 417
        },
        "id": "_JPg0JYo4ogV",
        "outputId": "d7ac0682-12c3-412b-c7a4-1f702dba0d0f"
      },
      "source": [
        "merged_df.sample(5)"
      ],
      "execution_count": 19,
      "outputs": [
        {
          "output_type": "execute_result",
          "data": {
            "text/html": [
              "<div>\n",
              "<style scoped>\n",
              "    .dataframe tbody tr th:only-of-type {\n",
              "        vertical-align: middle;\n",
              "    }\n",
              "\n",
              "    .dataframe tbody tr th {\n",
              "        vertical-align: top;\n",
              "    }\n",
              "\n",
              "    .dataframe thead th {\n",
              "        text-align: right;\n",
              "    }\n",
              "</style>\n",
              "<table border=\"1\" class=\"dataframe\">\n",
              "  <thead>\n",
              "    <tr style=\"text-align: right;\">\n",
              "      <th></th>\n",
              "      <th>match_id</th>\n",
              "      <th>inning</th>\n",
              "      <th>batting_team</th>\n",
              "      <th>bowling_team</th>\n",
              "      <th>total_runs</th>\n",
              "      <th>season</th>\n",
              "      <th>city</th>\n",
              "      <th>date</th>\n",
              "      <th>team1</th>\n",
              "      <th>team2</th>\n",
              "      <th>toss_winner</th>\n",
              "      <th>toss_decision</th>\n",
              "      <th>result</th>\n",
              "      <th>dl_applied</th>\n",
              "      <th>winner</th>\n",
              "      <th>win_by_runs</th>\n",
              "      <th>win_by_wickets</th>\n",
              "      <th>player_of_match</th>\n",
              "      <th>venue</th>\n",
              "      <th>umpire1</th>\n",
              "      <th>umpire2</th>\n",
              "      <th>umpire3</th>\n",
              "    </tr>\n",
              "  </thead>\n",
              "  <tbody>\n",
              "    <tr>\n",
              "      <th>10860</th>\n",
              "      <td>477</td>\n",
              "      <td>2</td>\n",
              "      <td>Mumbai Indians</td>\n",
              "      <td>Sunrisers Hyderabad</td>\n",
              "      <td>13</td>\n",
              "      <td>2014</td>\n",
              "      <td>NaN</td>\n",
              "      <td>2014-04-30</td>\n",
              "      <td>Sunrisers Hyderabad</td>\n",
              "      <td>Mumbai Indians</td>\n",
              "      <td>Mumbai Indians</td>\n",
              "      <td>field</td>\n",
              "      <td>normal</td>\n",
              "      <td>0</td>\n",
              "      <td>Sunrisers Hyderabad</td>\n",
              "      <td>15</td>\n",
              "      <td>0</td>\n",
              "      <td>B Kumar</td>\n",
              "      <td>Dubai International Cricket Stadium</td>\n",
              "      <td>HDPK Dharmasena</td>\n",
              "      <td>M Erasmus</td>\n",
              "      <td>NaN</td>\n",
              "    </tr>\n",
              "    <tr>\n",
              "      <th>1963</th>\n",
              "      <td>87</td>\n",
              "      <td>2</td>\n",
              "      <td>Chennai Super Kings</td>\n",
              "      <td>Delhi Daredevils</td>\n",
              "      <td>28</td>\n",
              "      <td>2008</td>\n",
              "      <td>Delhi</td>\n",
              "      <td>2008-05-08</td>\n",
              "      <td>Delhi Daredevils</td>\n",
              "      <td>Chennai Super Kings</td>\n",
              "      <td>Chennai Super Kings</td>\n",
              "      <td>field</td>\n",
              "      <td>normal</td>\n",
              "      <td>0</td>\n",
              "      <td>Chennai Super Kings</td>\n",
              "      <td>0</td>\n",
              "      <td>4</td>\n",
              "      <td>MS Dhoni</td>\n",
              "      <td>Feroz Shah Kotla</td>\n",
              "      <td>Aleem Dar</td>\n",
              "      <td>RB Tiffin</td>\n",
              "      <td>NaN</td>\n",
              "    </tr>\n",
              "    <tr>\n",
              "      <th>15569</th>\n",
              "      <td>7943</td>\n",
              "      <td>1</td>\n",
              "      <td>Mumbai Indians</td>\n",
              "      <td>Kings XI Punjab</td>\n",
              "      <td>23</td>\n",
              "      <td>2018</td>\n",
              "      <td>Mumbai</td>\n",
              "      <td>16/05/18</td>\n",
              "      <td>Mumbai Indians</td>\n",
              "      <td>Kings XI Punjab</td>\n",
              "      <td>Kings XI Punjab</td>\n",
              "      <td>field</td>\n",
              "      <td>normal</td>\n",
              "      <td>0</td>\n",
              "      <td>Mumbai Indians</td>\n",
              "      <td>3</td>\n",
              "      <td>0</td>\n",
              "      <td>JJ Bumrah</td>\n",
              "      <td>Wankhede Stadium</td>\n",
              "      <td>Marais Erasmus</td>\n",
              "      <td>Nitin Menon</td>\n",
              "      <td>Yeshwant Barde</td>\n",
              "    </tr>\n",
              "    <tr>\n",
              "      <th>6623</th>\n",
              "      <td>292</td>\n",
              "      <td>1</td>\n",
              "      <td>Deccan Chargers</td>\n",
              "      <td>Mumbai Indians</td>\n",
              "      <td>13</td>\n",
              "      <td>2011</td>\n",
              "      <td>Mumbai</td>\n",
              "      <td>2011-05-14</td>\n",
              "      <td>Deccan Chargers</td>\n",
              "      <td>Mumbai Indians</td>\n",
              "      <td>Deccan Chargers</td>\n",
              "      <td>bat</td>\n",
              "      <td>normal</td>\n",
              "      <td>0</td>\n",
              "      <td>Deccan Chargers</td>\n",
              "      <td>10</td>\n",
              "      <td>0</td>\n",
              "      <td>A Mishra</td>\n",
              "      <td>Wankhede Stadium</td>\n",
              "      <td>S Ravi</td>\n",
              "      <td>SK Tarapore</td>\n",
              "      <td>NaN</td>\n",
              "    </tr>\n",
              "    <tr>\n",
              "      <th>14248</th>\n",
              "      <td>628</td>\n",
              "      <td>1</td>\n",
              "      <td>Sunrisers Hyderabad</td>\n",
              "      <td>Delhi Daredevils</td>\n",
              "      <td>18</td>\n",
              "      <td>2016</td>\n",
              "      <td>Raipur</td>\n",
              "      <td>2016-05-20</td>\n",
              "      <td>Sunrisers Hyderabad</td>\n",
              "      <td>Delhi Daredevils</td>\n",
              "      <td>Delhi Daredevils</td>\n",
              "      <td>field</td>\n",
              "      <td>normal</td>\n",
              "      <td>0</td>\n",
              "      <td>Delhi Daredevils</td>\n",
              "      <td>0</td>\n",
              "      <td>6</td>\n",
              "      <td>KK Nair</td>\n",
              "      <td>Shaheed Veer Narayan Singh International Stadium</td>\n",
              "      <td>A Nand Kishore</td>\n",
              "      <td>BNJ Oxenford</td>\n",
              "      <td>NaN</td>\n",
              "    </tr>\n",
              "  </tbody>\n",
              "</table>\n",
              "</div>"
            ],
            "text/plain": [
              "      match_id inning  ...       umpire2         umpire3\n",
              "10860      477      2  ...     M Erasmus             NaN\n",
              "1963        87      2  ...     RB Tiffin             NaN\n",
              "15569     7943      1  ...   Nitin Menon  Yeshwant Barde\n",
              "6623       292      1  ...   SK Tarapore             NaN\n",
              "14248      628      1  ...  BNJ Oxenford             NaN\n",
              "\n",
              "[5 rows x 22 columns]"
            ]
          },
          "metadata": {
            "tags": []
          },
          "execution_count": 19
        }
      ]
    },
    {
      "cell_type": "markdown",
      "metadata": {
        "id": "yK7nlHJfh4t-"
      },
      "source": [
        "We run the following Regression Models for both Label Encoded and One-Hot Encoded data:\r\n",
        "1. Random Forest Regressor\r\n",
        "2. Bagging Regressor\r\n",
        "3. SGD Regressor\r\n",
        "4. MLP Regressor"
      ]
    },
    {
      "cell_type": "markdown",
      "metadata": {
        "id": "JwHLIQzA_P74"
      },
      "source": [
        "# Label Encoding\r\n",
        "\r\n",
        "To convert each feature to a number"
      ]
    },
    {
      "cell_type": "code",
      "metadata": {
        "id": "j6wTT-L01_T1"
      },
      "source": [
        "team_dict = {'Mumbai Indians':'0','Kolkata Knight Riders': '1','Royal Challengers Bangalore': '2','Deccan Chargers': '3','Chennai Super Kings': '4',\n",
        "                 'Rajasthan Royals': '5','Delhi Daredevils': '6','Gujarat Lions': '7','Kings XI Punjab': '8',\n",
        "                 'Sunrisers Hyderabad': '9','Rising Pune Supergiants':'10','Kochi Tuskers Kerala': '11','Pune Warriors': '12','Rising Pune Supergiant': '10', 'Delhi Capitals': '6'}"
      ],
      "execution_count": 20,
      "outputs": []
    },
    {
      "cell_type": "code",
      "metadata": {
        "id": "UC-AaA3f2ycA"
      },
      "source": [
        "#to label encode data\n",
        "def convert_string_to_label(df):\n",
        "\n",
        "    ## batting_team\n",
        "    df['batting_team'] = df['batting_team'].map(team_dict)\n",
        "    df['batting_team'] = pd.to_numeric(df['batting_team'])\n",
        "\n",
        "    ## bowling_team\n",
        "    df['bowling_team'] = df['bowling_team'].map(team_dict)\n",
        "    df['bowling_team'] = pd.to_numeric(df['bowling_team'])\n",
        "\n",
        "    for col in df.columns:\n",
        "        df[col] = pd.to_numeric(df[col])\n",
        "    \n",
        "    df['season'] = df['season'] - 2008\n",
        "\n",
        "    df = df.dropna()\n",
        "\n",
        "    return df "
      ],
      "execution_count": 21,
      "outputs": []
    },
    {
      "cell_type": "code",
      "metadata": {
        "id": "ZyV0GRWF6KAG"
      },
      "source": [
        "reqd_df = merged_df[['inning','season', 'batting_team', 'bowling_team', 'total_runs']] ## Pick the required features \n",
        "use_df = reqd_df.copy() ## Change the copy of the df \n",
        "\n",
        "#label encoded data\n",
        "final_df = convert_string_to_label(use_df)"
      ],
      "execution_count": 22,
      "outputs": []
    },
    {
      "cell_type": "code",
      "metadata": {
        "colab": {
          "base_uri": "https://localhost:8080/"
        },
        "id": "gQb5lq6B6QGo",
        "outputId": "bd7fc1e8-d5e4-42a5-e05d-94ae0f47464d"
      },
      "source": [
        "final_df.shape"
      ],
      "execution_count": 23,
      "outputs": [
        {
          "output_type": "execute_result",
          "data": {
            "text/plain": [
              "(17197, 5)"
            ]
          },
          "metadata": {
            "tags": []
          },
          "execution_count": 23
        }
      ]
    },
    {
      "cell_type": "code",
      "metadata": {
        "colab": {
          "base_uri": "https://localhost:8080/"
        },
        "id": "GsLeKeCv6T_x",
        "outputId": "4795e488-6947-449a-b481-845fc544c7ae"
      },
      "source": [
        "final_df.dtypes"
      ],
      "execution_count": 24,
      "outputs": [
        {
          "output_type": "execute_result",
          "data": {
            "text/plain": [
              "inning          int64\n",
              "season          int64\n",
              "batting_team    int64\n",
              "bowling_team    int64\n",
              "total_runs      int64\n",
              "dtype: object"
            ]
          },
          "metadata": {
            "tags": []
          },
          "execution_count": 24
        }
      ]
    },
    {
      "cell_type": "code",
      "metadata": {
        "id": "p1fNHWtf67MM"
      },
      "source": [
        "X = final_df[['inning','season', 'batting_team', 'bowling_team']].to_numpy()\n",
        "y = final_df['total_runs'].to_numpy()"
      ],
      "execution_count": 25,
      "outputs": []
    },
    {
      "cell_type": "code",
      "metadata": {
        "id": "K76hF20s8JfY"
      },
      "source": [
        "#load necesssary libraries\n",
        "from sklearn.ensemble import RandomForestRegressor\n",
        "from sklearn.ensemble import BaggingRegressor\n",
        "from sklearn.linear_model import SGDRegressor\n",
        "from sklearn import svm\n",
        "from sklearn.neural_network import MLPRegressor\n",
        "from sklearn.model_selection import train_test_split\n",
        "from sklearn.model_selection import KFold\n",
        "from sklearn.metrics import mean_squared_error, mean_absolute_error\n",
        "from sklearn.model_selection import GridSearchCV"
      ],
      "execution_count": 26,
      "outputs": []
    },
    {
      "cell_type": "code",
      "metadata": {
        "id": "XcDvCqw-EKqd"
      },
      "source": [
        "X_train, X_test, y_train, y_test = train_test_split(X, y, test_size = 0.3)"
      ],
      "execution_count": 27,
      "outputs": []
    },
    {
      "cell_type": "markdown",
      "metadata": {
        "id": "t-HFV62PDWg8"
      },
      "source": [
        "### Random Forest Regressor\r\n",
        "Finding the best hyperparameters for RandomForestRegressor()"
      ]
    },
    {
      "cell_type": "code",
      "metadata": {
        "colab": {
          "base_uri": "https://localhost:8080/"
        },
        "id": "5H5udbbKEGcM",
        "outputId": "0745a549-7606-4ab1-c3dd-44e8749cc43c"
      },
      "source": [
        "#finding the best hyperparameters\r\n",
        "clf =  RandomForestRegressor()\r\n",
        "grid = GridSearchCV(clf, {'max_depth': [1,2,3,4,5,6,7,8,9,10]})\r\n",
        "grid.fit(X_train, y_train)\r\n",
        "print('\\nBest RF Parameters:', grid.best_params_) "
      ],
      "execution_count": 28,
      "outputs": [
        {
          "output_type": "stream",
          "text": [
            "\n",
            "Best RF Parameters: {'max_depth': 6}\n"
          ],
          "name": "stdout"
        }
      ]
    },
    {
      "cell_type": "code",
      "metadata": {
        "colab": {
          "base_uri": "https://localhost:8080/"
        },
        "id": "edMih102Ze4V",
        "outputId": "79074a36-6a38-42c2-cf11-decd3189445d"
      },
      "source": [
        "#using the best hyperparameters\r\n",
        "clf = RandomForestRegressor(max_depth = 6)\r\n",
        "clf.fit(X_train, y_train)\r\n",
        "\r\n",
        "y_pred_train = clf.predict(X_train)\r\n",
        "y_pred = clf.predict(X_test)\r\n",
        "\r\n",
        "print(\"Train:\", mean_absolute_error(y_pred_train, y_train))\r\n",
        "print(\"Test:\", mean_absolute_error(y_pred, y_test))"
      ],
      "execution_count": 29,
      "outputs": [
        {
          "output_type": "stream",
          "text": [
            "Train: 4.53190229811064\n",
            "Test: 4.613311699535201\n"
          ],
          "name": "stdout"
        }
      ]
    },
    {
      "cell_type": "markdown",
      "metadata": {
        "id": "sgZtEh43DhGn"
      },
      "source": [
        "### Bagging Regressor\r\n",
        "\r\n",
        "Finding the best hyperparameters for BaggingRegressor()"
      ]
    },
    {
      "cell_type": "code",
      "metadata": {
        "colab": {
          "base_uri": "https://localhost:8080/"
        },
        "id": "lBUF0gyGRg1o",
        "outputId": "5aef345b-1a59-4fe5-c689-a4f1a06ee7ea"
      },
      "source": [
        "#finding the best hyperparameters\r\n",
        "clf =  BaggingRegressor()\r\n",
        "grid = GridSearchCV(clf, {'n_estimators': [5,10,20,25]})\r\n",
        "grid.fit(X_train, y_train)\r\n",
        "print('\\nBest RF Parameters:', grid.best_params_) "
      ],
      "execution_count": 30,
      "outputs": [
        {
          "output_type": "stream",
          "text": [
            "\n",
            "Best RF Parameters: {'n_estimators': 25}\n"
          ],
          "name": "stdout"
        }
      ]
    },
    {
      "cell_type": "code",
      "metadata": {
        "colab": {
          "base_uri": "https://localhost:8080/"
        },
        "id": "UZrCDbvNRxQr",
        "outputId": "13784726-c1e8-464b-f411-b5c97aead4bc"
      },
      "source": [
        "#Using the best hyperparameters\r\n",
        "clf = BaggingRegressor(n_estimators=25)\r\n",
        "clf.fit(X_train, y_train)\r\n",
        "\r\n",
        "y_pred_train = clf.predict(X_train)\r\n",
        "y_pred = clf.predict(X_test)\r\n",
        "\r\n",
        "print(\"Train:\", mean_absolute_error(y_pred_train, y_train))\r\n",
        "print(\"Test:\", mean_absolute_error(y_pred, y_test))"
      ],
      "execution_count": 31,
      "outputs": [
        {
          "output_type": "stream",
          "text": [
            "Train: 4.3051135807779595\n",
            "Test: 4.731226962785506\n"
          ],
          "name": "stdout"
        }
      ]
    },
    {
      "cell_type": "markdown",
      "metadata": {
        "id": "wr0qdSRZDlKQ"
      },
      "source": [
        "### SGD Regressor\r\n",
        "Finding the best hyperparameters for SGDRegressor()\r\n"
      ]
    },
    {
      "cell_type": "code",
      "metadata": {
        "colab": {
          "base_uri": "https://localhost:8080/"
        },
        "id": "1hp3nTRKE4Dh",
        "outputId": "aee14f48-cb78-44ae-86a7-f0edee176a7f"
      },
      "source": [
        "#finding the best hyperparameters\r\n",
        "clf = SGDRegressor()\r\n",
        "grid = GridSearchCV(clf, {'alpha': [0.1, 0.01, 0.05, 0.001]})\r\n",
        "grid.fit(X_train, y_train)\r\n",
        "print('\\nBest SGD Parameters:')\r\n",
        "print(grid.best_params_) "
      ],
      "execution_count": 32,
      "outputs": [
        {
          "output_type": "stream",
          "text": [
            "\n",
            "Best SGD Parameters:\n",
            "{'alpha': 0.1}\n"
          ],
          "name": "stdout"
        }
      ]
    },
    {
      "cell_type": "code",
      "metadata": {
        "colab": {
          "base_uri": "https://localhost:8080/"
        },
        "id": "ImWGRzaSVkVK",
        "outputId": "d2b8c855-2772-42de-bef6-920f3f404149"
      },
      "source": [
        "#using the best hyperparameters\r\n",
        "clf = SGDRegressor(alpha=0.1)\r\n",
        "clf.fit(X_train, y_train)\r\n",
        "y_pred_train = clf.predict(X_train) \r\n",
        "\r\n",
        "y_pred = clf.predict(X_test)\r\n",
        "\r\n",
        "print(\"Train:\", mean_absolute_error(y_pred_train, y_train))\r\n",
        "print(\"Test:\", mean_absolute_error(y_pred, y_test))"
      ],
      "execution_count": 33,
      "outputs": [
        {
          "output_type": "stream",
          "text": [
            "Train: 4.693442077299199\n",
            "Test: 4.723620234034666\n"
          ],
          "name": "stdout"
        }
      ]
    },
    {
      "cell_type": "markdown",
      "metadata": {
        "id": "lR4kG1taDrcd"
      },
      "source": [
        "### MLP Regressor\r\n",
        "Finding the best hyperparameters for MLPRegressor()"
      ]
    },
    {
      "cell_type": "code",
      "metadata": {
        "colab": {
          "base_uri": "https://localhost:8080/"
        },
        "id": "qJdz_XIvCE5A",
        "outputId": "e911f508-a6e3-4ef1-c4dd-a0a6cd9a4a15"
      },
      "source": [
        "#finding the best hyperparameters\r\n",
        "clf =  MLPRegressor()\r\n",
        "grid = GridSearchCV(clf, {'hidden_layer_sizes': [(15,), (12,), (10,), (8,), (6,), (4,)],'activation': ['logistic', 'tanh', 'relu'], 'max_iter': [2000]})\r\n",
        "grid.fit(X_train, y_train)\r\n",
        "print('\\nBest MLP Parameters:')\r\n",
        "print(grid.best_params_) \r\n",
        "grid_predictions = grid.predict(X_test) \r\n"
      ],
      "execution_count": 34,
      "outputs": [
        {
          "output_type": "stream",
          "text": [
            "\n",
            "Best MLP Parameters:\n",
            "{'activation': 'logistic', 'hidden_layer_sizes': (12,), 'max_iter': 2000}\n"
          ],
          "name": "stdout"
        }
      ]
    },
    {
      "cell_type": "code",
      "metadata": {
        "colab": {
          "base_uri": "https://localhost:8080/"
        },
        "id": "pH2fxYXIWuT4",
        "outputId": "079f2eb1-51d5-48b7-8c23-076965e0ea1c"
      },
      "source": [
        "#using the best hyperparameters\r\n",
        "clf = MLPRegressor(hidden_layer_sizes = (12,), max_iter = 2000, activation = 'logistic')\r\n",
        "clf.fit(X_train, y_train)\r\n",
        "y_pred_train = clf.predict(X_train) \r\n",
        "\r\n",
        "y_pred = clf.predict(X_test)\r\n",
        "\r\n",
        "print(\"Train:\", mean_absolute_error(y_pred_train, y_train))\r\n",
        "print(\"Test:\", mean_absolute_error(y_pred, y_test))"
      ],
      "execution_count": 35,
      "outputs": [
        {
          "output_type": "stream",
          "text": [
            "Train: 4.58129736568199\n",
            "Test: 4.61669706433701\n"
          ],
          "name": "stdout"
        }
      ]
    },
    {
      "cell_type": "markdown",
      "metadata": {
        "id": "NbnTdNPd_FZy"
      },
      "source": [
        "# One-hot Encoding\r\n",
        "\r\n",
        "To convert categorical data into a useful form"
      ]
    },
    {
      "cell_type": "code",
      "metadata": {
        "id": "6MlD6ZLf9RBa"
      },
      "source": [
        "reqd_df_oh = merged_df[['inning','season', 'batting_team', 'bowling_team', 'total_runs']] ## Pick the required features \n",
        "use_df_oh = reqd_df_oh.copy() ## Change the copy of the df \n",
        "\n",
        "temp = pd.get_dummies(use_df_oh[['batting_team', 'bowling_team']])\n",
        "\n",
        "final_df_oh = pd.concat([use_df_oh, temp], axis=1)\n",
        "\n",
        "final_df_oh = final_df_oh.drop(['batting_team', 'bowling_team'], axis=1)"
      ],
      "execution_count": 36,
      "outputs": []
    },
    {
      "cell_type": "code",
      "metadata": {
        "colab": {
          "base_uri": "https://localhost:8080/"
        },
        "id": "_gbkrLV8_rrl",
        "outputId": "ec0b12dd-0173-4153-efaf-9b6b1ce97803"
      },
      "source": [
        "final_df_oh.shape"
      ],
      "execution_count": 37,
      "outputs": [
        {
          "output_type": "execute_result",
          "data": {
            "text/plain": [
              "(17197, 33)"
            ]
          },
          "metadata": {
            "tags": []
          },
          "execution_count": 37
        }
      ]
    },
    {
      "cell_type": "code",
      "metadata": {
        "id": "Zu23-O_f_taA"
      },
      "source": [
        "y_oh = final_df_oh['total_runs'].to_numpy()\n",
        "X_oh = final_df_oh.drop('total_runs', axis=1).to_numpy()"
      ],
      "execution_count": 38,
      "outputs": []
    },
    {
      "cell_type": "code",
      "metadata": {
        "colab": {
          "base_uri": "https://localhost:8080/"
        },
        "id": "KuPOjki_AqIv",
        "outputId": "5ed24bfb-90e6-4996-fa76-620e4ea4cef4"
      },
      "source": [
        "X_oh.shape, y_oh.shape"
      ],
      "execution_count": 39,
      "outputs": [
        {
          "output_type": "execute_result",
          "data": {
            "text/plain": [
              "((17197, 32), (17197,))"
            ]
          },
          "metadata": {
            "tags": []
          },
          "execution_count": 39
        }
      ]
    },
    {
      "cell_type": "markdown",
      "metadata": {
        "id": "GOefnFb4Dxz0"
      },
      "source": [
        "### Random Forest Regressor\r\n",
        "Finding the best hyperparameters for RandomForestRegressor()"
      ]
    },
    {
      "cell_type": "code",
      "metadata": {
        "colab": {
          "base_uri": "https://localhost:8080/"
        },
        "id": "qK1la94BW_vy",
        "outputId": "c468ee42-b11c-4b63-ea64-debf49e2830e"
      },
      "source": [
        "#finding the best hyperparameters\r\n",
        "clf =  RandomForestRegressor()\r\n",
        "grid = GridSearchCV(clf, {'max_depth': [1,2,3,4,5,6,8,10]})\r\n",
        "grid.fit(X_train, y_train)\r\n",
        "print('\\nBest RF Parameters:', grid.best_params_) \r\n",
        "# grid_predictions = grid.predict(X_test)"
      ],
      "execution_count": 40,
      "outputs": [
        {
          "output_type": "stream",
          "text": [
            "\n",
            "Best RF Parameters: {'max_depth': 6}\n"
          ],
          "name": "stdout"
        }
      ]
    },
    {
      "cell_type": "code",
      "metadata": {
        "colab": {
          "base_uri": "https://localhost:8080/"
        },
        "id": "m2nzUjHMI3DQ",
        "outputId": "5bd2b8de-5e5a-4b5e-d0a2-4e5a0c06c226"
      },
      "source": [
        "#using the best hyperparameters\r\n",
        "clf = RandomForestRegressor(max_depth = 6)\r\n",
        "clf.fit(X_train, y_train)\r\n",
        "\r\n",
        "y_pred_train = clf.predict(X_train)\r\n",
        "y_pred = clf.predict(X_test)\r\n",
        "\r\n",
        "print(\"Train:\", mean_absolute_error(y_pred_train, y_train))\r\n",
        "print(\"Test:\", mean_absolute_error(y_pred, y_test))"
      ],
      "execution_count": 41,
      "outputs": [
        {
          "output_type": "stream",
          "text": [
            "Train: 4.530507399891316\n",
            "Test: 4.611761468599762\n"
          ],
          "name": "stdout"
        }
      ]
    },
    {
      "cell_type": "markdown",
      "metadata": {
        "id": "_IYWv5U3D2Hp"
      },
      "source": [
        "### Bagging Regressor\r\n",
        "Finding the best hyperparameters for BaggingRegressor()"
      ]
    },
    {
      "cell_type": "code",
      "metadata": {
        "colab": {
          "base_uri": "https://localhost:8080/"
        },
        "id": "ozvBEdbNSbjL",
        "outputId": "165fe25b-72fb-4807-e15f-846309e6d2e9"
      },
      "source": [
        "#finding the best hyperparameters\r\n",
        "clf =  BaggingRegressor()\r\n",
        "grid = GridSearchCV(clf, {'n_estimators': [5,10,20,25]})\r\n",
        "grid.fit(X_train, y_train)\r\n",
        "print('\\nBest RF Parameters:', grid.best_params_) \r\n",
        "# grid_predictions = grid.predict(X_test)"
      ],
      "execution_count": 42,
      "outputs": [
        {
          "output_type": "stream",
          "text": [
            "\n",
            "Best RF Parameters: {'n_estimators': 25}\n"
          ],
          "name": "stdout"
        }
      ]
    },
    {
      "cell_type": "code",
      "metadata": {
        "colab": {
          "base_uri": "https://localhost:8080/"
        },
        "id": "ksDYqz_-SecF",
        "outputId": "21dc77ad-d679-4341-e3e3-a9dcf178d869"
      },
      "source": [
        "#using the best hyperparameters\r\n",
        "clf = BaggingRegressor(n_estimators=25)\r\n",
        "clf.fit(X_train, y_train)\r\n",
        "\r\n",
        "y_pred_train = clf.predict(X_train)\r\n",
        "y_pred = clf.predict(X_test)\r\n",
        "\r\n",
        "print(\"Train:\", mean_absolute_error(y_pred_train, y_train))\r\n",
        "print(\"Test:\", mean_absolute_error(y_pred, y_test))"
      ],
      "execution_count": 43,
      "outputs": [
        {
          "output_type": "stream",
          "text": [
            "Train: 4.305120659442412\n",
            "Test: 4.731329525254957\n"
          ],
          "name": "stdout"
        }
      ]
    },
    {
      "cell_type": "markdown",
      "metadata": {
        "id": "hrVL-wbJD6WU"
      },
      "source": [
        "### SGD Regressor\r\n",
        "\r\n",
        "Finding the best hyperparameters for SGDRegressor()"
      ]
    },
    {
      "cell_type": "code",
      "metadata": {
        "colab": {
          "base_uri": "https://localhost:8080/"
        },
        "id": "WTWnbUL0NUok",
        "outputId": "4221dbdd-7d4b-4fd8-e1b4-75872e5b88f1"
      },
      "source": [
        "#finding the best hyperparameters\r\n",
        "clf = SGDRegressor()\r\n",
        "grid = GridSearchCV(clf, {'alpha': [0.1, 0.01, 0.05, 0.001]})\r\n",
        "grid.fit(X_train, y_train)\r\n",
        "print('\\nBest SGD Parameters:')\r\n",
        "print(grid.best_params_) \r\n",
        "# grid_predictions = grid.predict(X_test)"
      ],
      "execution_count": 44,
      "outputs": [
        {
          "output_type": "stream",
          "text": [
            "\n",
            "Best SGD Parameters:\n",
            "{'alpha': 0.05}\n"
          ],
          "name": "stdout"
        }
      ]
    },
    {
      "cell_type": "code",
      "metadata": {
        "colab": {
          "base_uri": "https://localhost:8080/"
        },
        "id": "5QfTLlHgXS0O",
        "outputId": "21443ec2-72f6-4d82-efb5-29bc0d014bd7"
      },
      "source": [
        "#using the best hyperparameters\r\n",
        "clf = SGDRegressor(alpha=0.05)\r\n",
        "clf.fit(X_train, y_train)\r\n",
        "y_pred_train = clf.predict(X_train) \r\n",
        "\r\n",
        "y_pred = clf.predict(X_test)\r\n",
        "\r\n",
        "print(\"Train:\", mean_absolute_error(y_pred_train, y_train))\r\n",
        "print(\"Test:\", mean_absolute_error(y_pred, y_test))"
      ],
      "execution_count": 45,
      "outputs": [
        {
          "output_type": "stream",
          "text": [
            "Train: 4.611795962357005\n",
            "Test: 4.639086467812422\n"
          ],
          "name": "stdout"
        }
      ]
    },
    {
      "cell_type": "markdown",
      "metadata": {
        "id": "q2ERhiFnD9gt"
      },
      "source": [
        "### MLP Regressor\r\n",
        "Finding the best hyperparameters for MLPRegressor()"
      ]
    },
    {
      "cell_type": "code",
      "metadata": {
        "id": "EwZYdfbKNRrR",
        "colab": {
          "base_uri": "https://localhost:8080/"
        },
        "outputId": "5fde8504-9c5c-44ab-8583-5122dae6d8a0"
      },
      "source": [
        "#finding the best hyperparameters\r\n",
        "clf =  MLPRegressor()\r\n",
        "grid = GridSearchCV(clf, {'hidden_layer_sizes': [(12,10,), (12,10,8,), (10,8,4), (8,4), (6,), (4,)],'activation': ['logistic', 'tanh', 'relu'], 'max_iter': [2000]})\r\n",
        "grid.fit(X_train, y_train)\r\n",
        "print('\\nBest MLP Parameters:', grid.best_params_) \r\n",
        "grid_predictions = grid.predict(X_test) \r\n"
      ],
      "execution_count": 46,
      "outputs": [
        {
          "output_type": "stream",
          "text": [
            "\n",
            "Best MLP Parameters: {'activation': 'relu', 'hidden_layer_sizes': (8, 4), 'max_iter': 2000}\n"
          ],
          "name": "stdout"
        }
      ]
    },
    {
      "cell_type": "code",
      "metadata": {
        "id": "KhD5VzBhNpH6",
        "colab": {
          "base_uri": "https://localhost:8080/"
        },
        "outputId": "fc3c5a25-7928-4a9b-d78f-2596c791dccc"
      },
      "source": [
        "#using the best hyperparameters\r\n",
        "clf = MLPRegressor(hidden_layer_sizes = (8, 4,), max_iter = 2000, activation = 'relu', random_state=0)\r\n",
        "clf.fit(X_train, y_train)\r\n",
        "y_pred_train = clf.predict(X_train) \r\n",
        "\r\n",
        "y_pred = clf.predict(X_test)\r\n",
        "\r\n",
        "print(\"Train:\", mean_absolute_error(y_pred_train, y_train))\r\n",
        "print(\"Test:\", mean_absolute_error(y_pred, y_test))"
      ],
      "execution_count": 47,
      "outputs": [
        {
          "output_type": "stream",
          "text": [
            "Train: 4.61972578087601\n",
            "Test: 4.64940553007213\n"
          ],
          "name": "stdout"
        }
      ]
    },
    {
      "cell_type": "code",
      "metadata": {
        "id": "SNJJjMzwj0cy"
      },
      "source": [
        ""
      ],
      "execution_count": 47,
      "outputs": []
    }
  ]
}